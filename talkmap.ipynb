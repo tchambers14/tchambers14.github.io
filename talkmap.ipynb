{
 "cells": [
  {
   "cell_type": "markdown",
   "metadata": {},
   "source": [
    "# Leaflet cluster map of talk locations\n",
    "\n",
    "Run this from the _talks/ directory, which contains .md files of all your talks. This scrapes the location YAML field from each .md file, geolocates it with geopy/Nominatim, and uses the getorg library to output data, HTML, and Javascript for a standalone cluster map."
   ]
  },
  {
   "cell_type": "code",
   "execution_count": 13,
   "metadata": {
    "pycharm": {
     "is_executing": false
    }
   },
   "outputs": [
    {
     "name": "stdout",
     "text": [
      "Requirement already up-to-date: getorg in c:\\users\\tcham\\appdata\\local\\continuum\\anaconda3\\lib\\site-packages (0.3.1)\n",
      "Requirement already satisfied, skipping upgrade: geopy in c:\\users\\tcham\\appdata\\local\\continuum\\anaconda3\\lib\\site-packages (from getorg) (1.21.0)\n",
      "Requirement already satisfied, skipping upgrade: pygithub in c:\\users\\tcham\\appdata\\local\\continuum\\anaconda3\\lib\\site-packages (from getorg) (1.46)\n",
      "Requirement already satisfied, skipping upgrade: retrying in c:\\users\\tcham\\appdata\\local\\continuum\\anaconda3\\lib\\site-packages (from getorg) (1.3.3)\n",
      "Requirement already satisfied, skipping upgrade: geographiclib<2,>=1.49 in c:\\users\\tcham\\appdata\\local\\continuum\\anaconda3\\lib\\site-packages (from geopy->getorg) (1.50)\n",
      "Requirement already satisfied, skipping upgrade: requests>=2.14.0 in c:\\users\\tcham\\appdata\\local\\continuum\\anaconda3\\lib\\site-packages (from pygithub->getorg) (2.23.0)\n",
      "Requirement already satisfied, skipping upgrade: pyjwt in c:\\users\\tcham\\appdata\\local\\continuum\\anaconda3\\lib\\site-packages (from pygithub->getorg) (1.7.1)\n",
      "Requirement already satisfied, skipping upgrade: deprecated in c:\\users\\tcham\\appdata\\local\\continuum\\anaconda3\\lib\\site-packages (from pygithub->getorg) (1.2.7)\n",
      "Requirement already satisfied, skipping upgrade: six>=1.7.0 in c:\\users\\tcham\\appdata\\local\\continuum\\anaconda3\\lib\\site-packages (from retrying->getorg) (1.12.0)\n",
      "Requirement already satisfied, skipping upgrade: certifi>=2017.4.17 in c:\\users\\tcham\\appdata\\local\\continuum\\anaconda3\\lib\\site-packages (from requests>=2.14.0->pygithub->getorg) (2019.9.11)\n",
      "Requirement already satisfied, skipping upgrade: urllib3!=1.25.0,!=1.25.1,<1.26,>=1.21.1 in c:\\users\\tcham\\appdata\\local\\continuum\\anaconda3\\lib\\site-packages (from requests>=2.14.0->pygithub->getorg) (1.24.2)\n",
      "Requirement already satisfied, skipping upgrade: chardet<4,>=3.0.2 in c:\\users\\tcham\\appdata\\local\\continuum\\anaconda3\\lib\\site-packages (from requests>=2.14.0->pygithub->getorg) (3.0.4)\n",
      "Requirement already satisfied, skipping upgrade: idna<3,>=2.5 in c:\\users\\tcham\\appdata\\local\\continuum\\anaconda3\\lib\\site-packages (from requests>=2.14.0->pygithub->getorg) (2.8)\n",
      "Requirement already satisfied, skipping upgrade: wrapt<2,>=1.10 in c:\\users\\tcham\\appdata\\local\\continuum\\anaconda3\\lib\\site-packages (from deprecated->pygithub->getorg) (1.11.2)\n",
      "Requirement already satisfied: ipyleaflet in c:\\users\\tcham\\appdata\\local\\continuum\\anaconda3\\lib\\site-packages (0.12.3)\n",
      "Requirement already satisfied: ipywidgets<8,>=7.5.0 in c:\\users\\tcham\\appdata\\local\\continuum\\anaconda3\\lib\\site-packages (from ipyleaflet) (7.5.1)\n",
      "Requirement already satisfied: traittypes<3,>=0.2.1 in c:\\users\\tcham\\appdata\\local\\continuum\\anaconda3\\lib\\site-packages (from ipyleaflet) (0.2.1)\n",
      "Requirement already satisfied: branca<0.4,>=0.3.1 in c:\\users\\tcham\\appdata\\local\\continuum\\anaconda3\\lib\\site-packages (from ipyleaflet) (0.3.1)\n",
      "Requirement already satisfied: xarray>=0.10 in c:\\users\\tcham\\appdata\\local\\continuum\\anaconda3\\lib\\site-packages (from ipyleaflet) (0.15.0)\n",
      "Requirement already satisfied: traitlets>=4.3.1 in c:\\users\\tcham\\appdata\\local\\continuum\\anaconda3\\lib\\site-packages (from ipywidgets<8,>=7.5.0->ipyleaflet) (4.3.3)\n",
      "Requirement already satisfied: nbformat>=4.2.0 in c:\\users\\tcham\\appdata\\local\\continuum\\anaconda3\\lib\\site-packages (from ipywidgets<8,>=7.5.0->ipyleaflet) (4.4.0)\n",
      "Requirement already satisfied: ipykernel>=4.5.1 in c:\\users\\tcham\\appdata\\local\\continuum\\anaconda3\\lib\\site-packages (from ipywidgets<8,>=7.5.0->ipyleaflet) (5.1.2)\n",
      "Requirement already satisfied: widgetsnbextension~=3.5.0 in c:\\users\\tcham\\appdata\\local\\continuum\\anaconda3\\lib\\site-packages (from ipywidgets<8,>=7.5.0->ipyleaflet) (3.5.1)\n",
      "Requirement already satisfied: ipython>=4.0.0; python_version >= \"3.3\" in c:\\users\\tcham\\appdata\\local\\continuum\\anaconda3\\lib\\site-packages (from ipywidgets<8,>=7.5.0->ipyleaflet) (7.8.0)\n",
      "Requirement already satisfied: jinja2 in c:\\users\\tcham\\appdata\\local\\continuum\\anaconda3\\lib\\site-packages (from branca<0.4,>=0.3.1->ipyleaflet) (2.10.3)\n",
      "Requirement already satisfied: six in c:\\users\\tcham\\appdata\\local\\continuum\\anaconda3\\lib\\site-packages (from branca<0.4,>=0.3.1->ipyleaflet) (1.12.0)\n",
      "Requirement already satisfied: numpy>=1.15 in c:\\users\\tcham\\appdata\\local\\continuum\\anaconda3\\lib\\site-packages (from xarray>=0.10->ipyleaflet) (1.16.5)\n",
      "Requirement already satisfied: pandas>=0.25 in c:\\users\\tcham\\appdata\\local\\continuum\\anaconda3\\lib\\site-packages (from xarray>=0.10->ipyleaflet) (0.25.1)\n",
      "Requirement already satisfied: ipython-genutils in c:\\users\\tcham\\appdata\\local\\continuum\\anaconda3\\lib\\site-packages (from traitlets>=4.3.1->ipywidgets<8,>=7.5.0->ipyleaflet) (0.2.0)\n",
      "Requirement already satisfied: decorator in c:\\users\\tcham\\appdata\\local\\continuum\\anaconda3\\lib\\site-packages (from traitlets>=4.3.1->ipywidgets<8,>=7.5.0->ipyleaflet) (4.4.0)\n",
      "Requirement already satisfied: jsonschema!=2.5.0,>=2.4 in c:\\users\\tcham\\appdata\\local\\continuum\\anaconda3\\lib\\site-packages (from nbformat>=4.2.0->ipywidgets<8,>=7.5.0->ipyleaflet) (3.0.2)\n",
      "Requirement already satisfied: jupyter-core in c:\\users\\tcham\\appdata\\local\\continuum\\anaconda3\\lib\\site-packages (from nbformat>=4.2.0->ipywidgets<8,>=7.5.0->ipyleaflet) (4.5.0)\n",
      "Requirement already satisfied: jupyter-client in c:\\users\\tcham\\appdata\\local\\continuum\\anaconda3\\lib\\site-packages (from ipykernel>=4.5.1->ipywidgets<8,>=7.5.0->ipyleaflet) (5.3.3)\n",
      "Requirement already satisfied: tornado>=4.2 in c:\\users\\tcham\\appdata\\local\\continuum\\anaconda3\\lib\\site-packages (from ipykernel>=4.5.1->ipywidgets<8,>=7.5.0->ipyleaflet) (6.0.3)\n",
      "Requirement already satisfied: notebook>=4.4.1 in c:\\users\\tcham\\appdata\\local\\continuum\\anaconda3\\lib\\site-packages (from widgetsnbextension~=3.5.0->ipywidgets<8,>=7.5.0->ipyleaflet) (6.0.1)\n",
      "Requirement already satisfied: setuptools>=18.5 in c:\\users\\tcham\\appdata\\local\\continuum\\anaconda3\\lib\\site-packages (from ipython>=4.0.0; python_version >= \"3.3\"->ipywidgets<8,>=7.5.0->ipyleaflet) (41.6.0)\n",
      "Requirement already satisfied: jedi>=0.10 in c:\\users\\tcham\\appdata\\local\\continuum\\anaconda3\\lib\\site-packages (from ipython>=4.0.0; python_version >= \"3.3\"->ipywidgets<8,>=7.5.0->ipyleaflet) (0.15.1)\n",
      "Requirement already satisfied: pickleshare in c:\\users\\tcham\\appdata\\local\\continuum\\anaconda3\\lib\\site-packages (from ipython>=4.0.0; python_version >= \"3.3\"->ipywidgets<8,>=7.5.0->ipyleaflet) (0.7.5)\n",
      "Requirement already satisfied: colorama; sys_platform == \"win32\" in c:\\users\\tcham\\appdata\\local\\continuum\\anaconda3\\lib\\site-packages (from ipython>=4.0.0; python_version >= \"3.3\"->ipywidgets<8,>=7.5.0->ipyleaflet) (0.4.1)\n",
      "Requirement already satisfied: backcall in c:\\users\\tcham\\appdata\\local\\continuum\\anaconda3\\lib\\site-packages (from ipython>=4.0.0; python_version >= \"3.3\"->ipywidgets<8,>=7.5.0->ipyleaflet) (0.1.0)\n",
      "Requirement already satisfied: prompt-toolkit<2.1.0,>=2.0.0 in c:\\users\\tcham\\appdata\\local\\continuum\\anaconda3\\lib\\site-packages (from ipython>=4.0.0; python_version >= \"3.3\"->ipywidgets<8,>=7.5.0->ipyleaflet) (2.0.10)\n",
      "Requirement already satisfied: pygments in c:\\users\\tcham\\appdata\\local\\continuum\\anaconda3\\lib\\site-packages (from ipython>=4.0.0; python_version >= \"3.3\"->ipywidgets<8,>=7.5.0->ipyleaflet) (2.4.2)\n",
      "Requirement already satisfied: MarkupSafe>=0.23 in c:\\users\\tcham\\appdata\\local\\continuum\\anaconda3\\lib\\site-packages (from jinja2->branca<0.4,>=0.3.1->ipyleaflet) (1.1.1)\n",
      "Requirement already satisfied: python-dateutil>=2.6.1 in c:\\users\\tcham\\appdata\\local\\continuum\\anaconda3\\lib\\site-packages (from pandas>=0.25->xarray>=0.10->ipyleaflet) (2.8.0)\n",
      "Requirement already satisfied: pytz>=2017.2 in c:\\users\\tcham\\appdata\\local\\continuum\\anaconda3\\lib\\site-packages (from pandas>=0.25->xarray>=0.10->ipyleaflet) (2019.3)\n",
      "Requirement already satisfied: pyrsistent>=0.14.0 in c:\\users\\tcham\\appdata\\local\\continuum\\anaconda3\\lib\\site-packages (from jsonschema!=2.5.0,>=2.4->nbformat>=4.2.0->ipywidgets<8,>=7.5.0->ipyleaflet) (0.15.4)\n",
      "Requirement already satisfied: attrs>=17.4.0 in c:\\users\\tcham\\appdata\\local\\continuum\\anaconda3\\lib\\site-packages (from jsonschema!=2.5.0,>=2.4->nbformat>=4.2.0->ipywidgets<8,>=7.5.0->ipyleaflet) (19.2.0)\n",
      "Requirement already satisfied: pyzmq>=13 in c:\\users\\tcham\\appdata\\local\\continuum\\anaconda3\\lib\\site-packages (from jupyter-client->ipykernel>=4.5.1->ipywidgets<8,>=7.5.0->ipyleaflet) (18.1.0)\n",
      "Requirement already satisfied: pywin32>=1.0; sys_platform == \"win32\" in c:\\users\\tcham\\appdata\\local\\continuum\\anaconda3\\lib\\site-packages (from jupyter-client->ipykernel>=4.5.1->ipywidgets<8,>=7.5.0->ipyleaflet) (223)\n",
      "Requirement already satisfied: Send2Trash in c:\\users\\tcham\\appdata\\local\\continuum\\anaconda3\\lib\\site-packages (from notebook>=4.4.1->widgetsnbextension~=3.5.0->ipywidgets<8,>=7.5.0->ipyleaflet) (1.5.0)\n",
      "Requirement already satisfied: terminado>=0.8.1 in c:\\users\\tcham\\appdata\\local\\continuum\\anaconda3\\lib\\site-packages (from notebook>=4.4.1->widgetsnbextension~=3.5.0->ipywidgets<8,>=7.5.0->ipyleaflet) (0.8.2)\n",
      "Requirement already satisfied: nbconvert in c:\\users\\tcham\\appdata\\local\\continuum\\anaconda3\\lib\\site-packages (from notebook>=4.4.1->widgetsnbextension~=3.5.0->ipywidgets<8,>=7.5.0->ipyleaflet) (5.6.0)\n",
      "Requirement already satisfied: prometheus-client in c:\\users\\tcham\\appdata\\local\\continuum\\anaconda3\\lib\\site-packages (from notebook>=4.4.1->widgetsnbextension~=3.5.0->ipywidgets<8,>=7.5.0->ipyleaflet) (0.7.1)\n",
      "Requirement already satisfied: parso>=0.5.0 in c:\\users\\tcham\\appdata\\local\\continuum\\anaconda3\\lib\\site-packages (from jedi>=0.10->ipython>=4.0.0; python_version >= \"3.3\"->ipywidgets<8,>=7.5.0->ipyleaflet) (0.5.1)\n",
      "Requirement already satisfied: wcwidth in c:\\users\\tcham\\appdata\\local\\continuum\\anaconda3\\lib\\site-packages (from prompt-toolkit<2.1.0,>=2.0.0->ipython>=4.0.0; python_version >= \"3.3\"->ipywidgets<8,>=7.5.0->ipyleaflet) (0.1.7)\n",
      "Requirement already satisfied: entrypoints>=0.2.2 in c:\\users\\tcham\\appdata\\local\\continuum\\anaconda3\\lib\\site-packages (from nbconvert->notebook>=4.4.1->widgetsnbextension~=3.5.0->ipywidgets<8,>=7.5.0->ipyleaflet) (0.3)\n",
      "Requirement already satisfied: testpath in c:\\users\\tcham\\appdata\\local\\continuum\\anaconda3\\lib\\site-packages (from nbconvert->notebook>=4.4.1->widgetsnbextension~=3.5.0->ipywidgets<8,>=7.5.0->ipyleaflet) (0.4.2)\n",
      "Requirement already satisfied: pandocfilters>=1.4.1 in c:\\users\\tcham\\appdata\\local\\continuum\\anaconda3\\lib\\site-packages (from nbconvert->notebook>=4.4.1->widgetsnbextension~=3.5.0->ipywidgets<8,>=7.5.0->ipyleaflet) (1.4.2)\n",
      "Requirement already satisfied: mistune<2,>=0.8.1 in c:\\users\\tcham\\appdata\\local\\continuum\\anaconda3\\lib\\site-packages (from nbconvert->notebook>=4.4.1->widgetsnbextension~=3.5.0->ipywidgets<8,>=7.5.0->ipyleaflet) (0.8.4)\n",
      "Requirement already satisfied: defusedxml in c:\\users\\tcham\\appdata\\local\\continuum\\anaconda3\\lib\\site-packages (from nbconvert->notebook>=4.4.1->widgetsnbextension~=3.5.0->ipywidgets<8,>=7.5.0->ipyleaflet) (0.6.0)\n",
      "Requirement already satisfied: bleach in c:\\users\\tcham\\appdata\\local\\continuum\\anaconda3\\lib\\site-packages (from nbconvert->notebook>=4.4.1->widgetsnbextension~=3.5.0->ipywidgets<8,>=7.5.0->ipyleaflet) (3.1.0)\n",
      "Requirement already satisfied: webencodings in c:\\users\\tcham\\appdata\\local\\continuum\\anaconda3\\lib\\site-packages (from bleach->nbconvert->notebook>=4.4.1->widgetsnbextension~=3.5.0->ipywidgets<8,>=7.5.0->ipyleaflet) (0.5.1)\n"
     ],
     "output_type": "stream"
    }
   ],
   "source": [
    "!pip install getorg --upgrade\n",
    "!pip install ipyleaflet\n",
    "import glob\n",
    "import getorg\n",
    "from geopy import Nominatim"
   ]
  },
  {
   "cell_type": "code",
   "execution_count": 14,
   "metadata": {
    "pycharm": {
     "is_executing": false
    }
   },
   "outputs": [],
   "source": [
    "g = glob.glob(\"*.md\")"
   ]
  },
  {
   "cell_type": "code",
   "execution_count": 15,
   "metadata": {
    "pycharm": {
     "is_executing": false
    }
   },
   "outputs": [
    {
     "name": "stderr",
     "text": [
      "C:\\Users\\tcham\\AppData\\Local\\Continuum\\anaconda3\\lib\\site-packages\\ipykernel_launcher.py:1: DeprecationWarning: Using Nominatim with the default \"geopy/1.21.0\" `user_agent` is strongly discouraged, as it violates Nominatim's ToS https://operations.osmfoundation.org/policies/nominatim/ and may possibly cause 403 and 429 HTTP errors. Please specify a custom `user_agent` with `Nominatim(user_agent=\"my-application\")` or by overriding the default `user_agent`: `geopy.geocoders.options.default_user_agent = \"my-application\"`. In geopy 2.0 this will become an exception.\n",
      "  \"\"\"Entry point for launching an IPython kernel.\n"
     ],
     "output_type": "stream"
    }
   ],
   "source": [
    "geocoder = Nominatim()\n",
    "location_dict = {}\n",
    "location = \"\"\n",
    "permalink = \"\"\n",
    "title = \"\""
   ]
  },
  {
   "cell_type": "code",
   "execution_count": 16,
   "metadata": {
    "pycharm": {
     "is_executing": false
    }
   },
   "outputs": [
    {
     "name": "stdout",
     "text": [
      " \n",
      " None\n",
      " \n",
      " None\n",
      " \n",
      " None\n"
     ],
     "output_type": "stream"
    }
   ],
   "source": [
    "\n",
    "for file in g:\n",
    "    with open(file, 'r') as f:\n",
    "        lines = f.read()\n",
    "        if lines.find('location: \"') > 1:\n",
    "            loc_start = lines.find('location: \"') + 11\n",
    "            lines_trim = lines[loc_start:]\n",
    "            loc_end = lines_trim.find('\"')\n",
    "            location = lines_trim[:loc_end]\n",
    "                            \n",
    "           \n",
    "        location_dict[location] = geocoder.geocode(location)\n",
    "        print(location, \"\\n\", location_dict[location])\n"
   ]
  },
  {
   "cell_type": "code",
   "execution_count": 17,
   "metadata": {
    "pycharm": {
     "is_executing": false
    }
   },
   "outputs": [
    {
     "data": {
      "text/plain": "'Written map to ../talkmap/'"
     },
     "metadata": {},
     "output_type": "execute_result",
     "execution_count": 17
    }
   ],
   "source": [
    "m = getorg.orgmap.create_map_obj()\n",
    "getorg.orgmap.output_html_cluster_map(location_dict, folder_name=\"../talkmap\", hashed_usernames=False)"
   ]
  },
  {
   "cell_type": "code",
   "execution_count": 17,
   "metadata": {
    "collapsed": true,
    "pycharm": {
     "is_executing": false
    }
   },
   "outputs": [],
   "source": []
  }
 ],
 "metadata": {
  "anaconda-cloud": {},
  "kernelspec": {
   "display_name": "Python 3",
   "language": "python",
   "name": "python3"
  },
  "language_info": {
   "codemirror_mode": {
    "name": "ipython",
    "version": 3
   },
   "file_extension": ".py",
   "mimetype": "text/x-python",
   "name": "python",
   "nbconvert_exporter": "python",
   "pygments_lexer": "ipython3",
   "version": "3.7.4"
  },
  "pycharm": {
   "stem_cell": {
    "cell_type": "raw",
    "source": [],
    "metadata": {
     "collapsed": false
    }
   }
  }
 },
 "nbformat": 4,
 "nbformat_minor": 1
}